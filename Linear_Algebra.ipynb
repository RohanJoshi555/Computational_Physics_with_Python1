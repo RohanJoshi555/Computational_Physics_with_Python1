{
 "cells": [
  {
   "cell_type": "code",
   "execution_count": 33,
   "id": "1710f78d",
   "metadata": {},
   "outputs": [],
   "source": [
    "import numpy as np\n",
    "from scipy import linalg"
   ]
  },
  {
   "cell_type": "markdown",
   "id": "f740ed4e",
   "metadata": {},
   "source": [
    "## Linear System of equations using Gauss-Elimination"
   ]
  },
  {
   "cell_type": "code",
   "execution_count": 34,
   "id": "3507a0db",
   "metadata": {},
   "outputs": [
    {
     "name": "stdout",
     "output_type": "stream",
     "text": [
      "A = \n",
      " [[ 0.  3. -4.]\n",
      " [ 2. -3.  7.]\n",
      " [-1.  0. -9.]] \n",
      "b = \n",
      " [ 16. -27.   9.]\n",
      "\n",
      "Augmented Matrix:\n",
      " [[  0.   3.  -4.  16.]\n",
      " [  2.  -3.   7. -27.]\n",
      " [ -1.   0.  -9.   9.]]\n",
      "\n",
      "R0 <--> R1:\n",
      "[[  2.  -3.   7. -27.]\n",
      " [  0.   3.  -4.  16.]\n",
      " [ -1.   0.  -9.   9.]]\n",
      "\n",
      "R0 --> R0/2.0:\n",
      "[[  1.   -1.5   3.5 -13.5]\n",
      " [  0.    3.   -4.   16. ]\n",
      " [ -1.    0.   -9.    9. ]]\n",
      "\n",
      "R2 --> R2 - R0*-1.0:\n",
      "[[  1.   -1.5   3.5 -13.5]\n",
      " [  0.    3.   -4.   16. ]\n",
      " [  0.   -1.5  -5.5  -4.5]]\n",
      "\n",
      "R1 --> R1/3.0:\n",
      "[[  1.          -1.5          3.5        -13.5       ]\n",
      " [  0.           1.          -1.33333333   5.33333333]\n",
      " [  0.          -1.5         -5.5         -4.5       ]]\n",
      "\n",
      "R2 --> R2 - R1*-1.5:\n",
      "[[  1.          -1.5          3.5        -13.5       ]\n",
      " [  0.           1.          -1.33333333   5.33333333]\n",
      " [  0.           0.          -7.5          3.5       ]]\n",
      "\n",
      "R2 --> R2/-7.5:\n",
      "[[  1.          -1.5          3.5        -13.5       ]\n",
      " [  0.           1.          -1.33333333   5.33333333]\n",
      " [ -0.          -0.           1.          -0.46666667]]\n",
      "After gauss elimination:\n",
      "A = \n",
      " [[ 1.         -1.5         3.5       ]\n",
      " [ 0.          1.         -1.33333333]\n",
      " [-0.         -0.          1.        ]] \n",
      "b = \n",
      " [-13.5          5.33333333  -0.46666667]\n",
      "Solution of Ax = b:\n",
      "x = \n",
      " [-4.8         4.71111111 -0.46666667]\n"
     ]
    }
   ],
   "source": [
    "\n",
    "def backSubst(U,b):\n",
    "    n = len(U)\n",
    "    x = np.zeros(n)\n",
    "    x[n-1] = b[n-1]/U[n-1,n-1]\n",
    "    for i in range(n-2,-1,-1):\n",
    "        x[i] = (b[i] - sum(U[i,i+1:n]*x[i+1:]))/U[i,i]\n",
    "    return x\n",
    "\n",
    "def gaussElim(A,b):\n",
    "    n = len(A)\n",
    "    # Make Augmented matrix [A|b]\n",
    "    Am = np.concatenate((A,b.reshape((n,1))),axis = 1)\n",
    "    print('\\nAugmented Matrix:\\n',Am)\n",
    "    # i iterates over columns\n",
    "    for i in range(n-1):\n",
    "        # Do pivoting: if the ith diagonal element is 0 Interchange ith row with the row containing the max absolute value in \n",
    "        # ith column below A(i,i)\n",
    "        if Am[i,i] == 0:\n",
    "            maxind = np.argmax(abs(Am[i:,i]))\n",
    "            Am[[i,maxind]] = Am[[maxind,i]]\n",
    "            print('\\nR{} <--> R{}:\\n{}'.format(i,maxind,Am))\n",
    "        # Make ith diagonal equal to 1\n",
    "        if Am[i,i] != 1.0:\n",
    "            print('\\nR{} --> R{}/{}:'.format(i,i,Am[i,i]))\n",
    "            Am[i] = Am[i]/Am[i,i]\n",
    "            print(Am)\n",
    "        # Make all elements below the ith diagonal in ith column to zero\n",
    "        for j in range(i+1,n):\n",
    "            if Am[j,i] != 0:\n",
    "                print('\\nR{} --> R{} - R{}*{}:'.format(j,j,i,Am[j,i]))\n",
    "                Am[j] -= Am[i]*Am[j,i]\n",
    "                print(Am)\n",
    "    print('\\nR{} --> R{}/{}:'.format(n-1,n-1,Am[n-1,n-1]))\n",
    "    Am[n-1] = Am[n-1]/Am[n-1,n-1]\n",
    "    print(Am)\n",
    "    # Return A,b after gauss elimination\n",
    "    return Am[0:n,0:n],Am[:,-1] \n",
    "\n",
    "A=np.array([[0,3,-4],[2,-3,7],[-1,0,-9]],float)\n",
    "b=np.array([16,-27,9],float)\n",
    "print('A = \\n',A,'\\nb = \\n',b)\n",
    "\n",
    "Agauss,bgauss = gaussElim(A,b)\n",
    "print('After gauss elimination:')\n",
    "print('A = \\n',Agauss,'\\nb = \\n',bgauss)\n",
    "\n",
    "x = backSubst(Agauss,bgauss)\n",
    "print('Solution of Ax = b:')\n",
    "print('x = \\n',x)"
   ]
  },
  {
   "cell_type": "code",
   "execution_count": 35,
   "id": "fa1e5372",
   "metadata": {},
   "outputs": [
    {
     "name": "stdout",
     "output_type": "stream",
     "text": [
      "[-4.8         4.71111111 -0.46666667]\n"
     ]
    }
   ],
   "source": [
    "x = linalg.solve(A,b)\n",
    "print(x)"
   ]
  },
  {
   "cell_type": "markdown",
   "id": "2d1e42ef",
   "metadata": {},
   "source": [
    "## L-U Decomposition using Doolittle's algorithm:"
   ]
  },
  {
   "cell_type": "code",
   "execution_count": 36,
   "id": "a8c5f5cf",
   "metadata": {},
   "outputs": [
    {
     "name": "stdout",
     "output_type": "stream",
     "text": [
      "A =\n",
      " [[ 1.          2.26384628  3.04138127  3.65718471  4.18330013]\n",
      " [ 4.65026881  5.07444578  5.46580278  5.83095189  6.17454452]\n",
      " [ 6.5         6.80991924  7.1063352   7.39087275  7.66485486]\n",
      " [ 7.92937576  8.18535277  8.4335639   8.67467579  8.90926484]\n",
      " [ 9.13783344  9.36082261  9.57862203  9.79157801 10.        ]]\n",
      "L =\n",
      " [[1.         0.         0.         0.         0.        ]\n",
      " [4.65026881 1.         0.         0.         0.        ]\n",
      " [6.5        1.44966295 1.         0.         0.        ]\n",
      " [7.92937576 1.79083975 1.71452058 1.         0.        ]\n",
      " [9.13783344 2.07697194 2.284001   2.06867485 1.        ]] \n",
      "U =\n",
      " [[ 1.00000000e+00  2.26384628e+00  3.04138127e+00  3.65718471e+00\n",
      "   4.18330013e+00]\n",
      " [ 0.00000000e+00 -5.45304798e+00 -8.67743766e+00 -1.11759401e+01\n",
      "  -1.32789256e+01]\n",
      " [ 0.00000000e+00  0.00000000e+00 -8.32831693e-02 -1.79481609e-01\n",
      "  -2.76629564e-01]\n",
      " [ 0.00000000e+00  0.00000000e+00  0.00000000e+00 -2.47334053e-03\n",
      "  -6.97894179e-03]\n",
      " [ 0.00000000e+00  0.00000000e+00  0.00000000e+00  0.00000000e+00\n",
      "  -8.45497747e-05]]\n",
      "L*U =\n",
      " [[ 1.          2.26384628  3.04138127  3.65718471  4.18330013]\n",
      " [ 4.65026881  5.07444578  5.46580278  5.83095189  6.17454452]\n",
      " [ 6.5         6.80991924  7.1063352   7.39087275  7.66485486]\n",
      " [ 7.92937576  8.18535277  8.4335639   8.67467579  8.90926484]\n",
      " [ 9.13783344  9.36082261  9.57862203  9.79157801 10.        ]]\n"
     ]
    }
   ],
   "source": [
    "# Note that matrices with 0 diagonal elements cannot be decomposed to LU = A.\n",
    "# Hence partial pivoting is not applied.\n",
    "def LUdecompDoolittle(A):\n",
    "    a = A.copy()\n",
    "    n = len(a)\n",
    "    for i in range(n-1):\n",
    "        a[i+1:,i] /= a[i,i]\n",
    "        for j in range(i+1,n):\n",
    "            a[j,i+1:] -= a[j,i]*a[i,i+1:]\n",
    "    \n",
    "    L = np.eye(n,n);U = np.zeros((n,n))\n",
    "    for i in range(n):\n",
    "        U[0:i+1,i] = a[0:i+1,i]\n",
    "        if i!=n-1:\n",
    "            L[i+1:,i] = a[i+1:,i]\n",
    "    return L,U\n",
    "\n",
    "A=(np.linspace(1.0,100.0,25)**0.5).reshape((5,5))\n",
    "L,U = LUdecompDoolittle(A)\n",
    "print('A =\\n',A)\n",
    "print('L =\\n',L,'\\nU =\\n',U)\n",
    "print('L*U =\\n',np.dot(L,U))"
   ]
  },
  {
   "cell_type": "code",
   "execution_count": 37,
   "id": "6e9448ce",
   "metadata": {},
   "outputs": [
    {
     "name": "stdout",
     "output_type": "stream",
     "text": [
      "x =  [ -2365.02210705  24512.3557615  -66839.47554511  69957.82600369\n",
      " -25241.20740588]\n"
     ]
    }
   ],
   "source": [
    "def LUsolve(L,U,b):\n",
    "    n = len(b)\n",
    "    x = np.zeros(n);y = np.zeros(n)\n",
    "    for i in range(n):\n",
    "        y[i] = b[i] - np.dot(L[i,0:i],y[0:i])\n",
    "    x[n-1] = y[n-1]/U[n-1,n-1]\n",
    "    for i in range(n-2,-1,-1):\n",
    "        x[i] = (y[i] - np.dot(U[i,i+1:],x[i+1:]))/U[i,i]\n",
    "    return x\n",
    "\n",
    "b=np.linspace(100.0,200.0,len(A))\n",
    "print('x = ',LUsolve(L,U,b))"
   ]
  },
  {
   "cell_type": "code",
   "execution_count": 38,
   "id": "e1ece063",
   "metadata": {},
   "outputs": [
    {
     "name": "stdout",
     "output_type": "stream",
     "text": [
      "[ -2365.02210655  24512.35575675 -66839.47553298  69957.82599163\n",
      " -25241.20740171]\n"
     ]
    }
   ],
   "source": [
    "x = linalg.solve(A,b)\n",
    "print(x)"
   ]
  },
  {
   "cell_type": "code",
   "execution_count": null,
   "id": "a81f3e5a",
   "metadata": {},
   "outputs": [],
   "source": []
  }
 ],
 "metadata": {
  "kernelspec": {
   "display_name": "Python 3 (ipykernel)",
   "language": "python",
   "name": "python3"
  },
  "language_info": {
   "codemirror_mode": {
    "name": "ipython",
    "version": 3
   },
   "file_extension": ".py",
   "mimetype": "text/x-python",
   "name": "python",
   "nbconvert_exporter": "python",
   "pygments_lexer": "ipython3",
   "version": "3.11.3"
  }
 },
 "nbformat": 4,
 "nbformat_minor": 5
}
